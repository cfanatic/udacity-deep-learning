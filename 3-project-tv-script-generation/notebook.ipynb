{
 "cells": [
  {
   "cell_type": "markdown",
   "metadata": {},
   "source": [
    "# TV Script Generation\n",
    "\n",
    "In this project, you'll generate your own Seinfeld TV scripts using RNNs.  You'll be using part of the [Seinfeld dataset](https://www.kaggle.com/thec03u5/seinfeld-chronicles#scripts.csv) of scripts from 9 seasons.  The Neural Network you'll build will generate a new, \"fake\" TV script, based on patterns it recognizes in this training data.\n",
    "\n",
    "## Get the Data\n",
    "\n",
    "The data is already provided for you in `./data/seinfeld_scripts.txt` and you're encouraged to open that file and look at the text. \n",
    "* As a first step, we'll load in this data and look at some samples. \n",
    "* Then, you'll be tasked with defining and training an RNN to generate a new script!"
   ]
  },
  {
   "cell_type": "code",
   "execution_count": 1,
   "metadata": {},
   "outputs": [],
   "source": [
    "\"\"\"\n",
    "DON'T MODIFY ANYTHING IN THIS CELL\n",
    "\"\"\"\n",
    "import helper\n",
    "data_dir = \"./data/seinfeld_scripts.txt\"\n",
    "text = helper.load_data(data_dir)"
   ]
  },
  {
   "cell_type": "markdown",
   "metadata": {},
   "source": [
    "## Explore the Data\n",
    "Play around with `view_line_range` to view different parts of the data. This will give you a sense of the data you'll be working with. You can see, for example, that it is all lowercase text, and each new line of dialogue is separated by a newline character `\\n`."
   ]
  },
  {
   "cell_type": "code",
   "execution_count": 2,
   "metadata": {},
   "outputs": [
    {
     "name": "stdout",
     "output_type": "stream",
     "text": [
      "Dataset Stats\n",
      "-------------\n",
      "\n",
      "Rough number of total words: 605614\n",
      "Rough number of unique words: 46367\n",
      "Number of lines: 109233\n",
      "Average number of words per line: 5.544\n",
      "Lines 3 to 15:\n",
      "\n",
      "george: are you through? \n",
      "\n",
      "jerry: you do of course try on, when you buy? \n",
      "\n",
      "george: yes, it was purple, i liked it, i dont actually recall considering the buttons. \n",
      "\n",
      "jerry: oh, you dont recall? \n",
      "\n",
      "george: (on an imaginary microphone) uh, no, not at this time. \n",
      "\n",
      "jerry: well, senator, id just like to know, what you knew and when you knew it. \n"
     ]
    }
   ],
   "source": [
    "view_line_range = (3, 15)\n",
    "\n",
    "\"\"\"\n",
    "DON'T MODIFY ANYTHING IN THIS CELL THAT IS BELOW THIS LINE\n",
    "\"\"\"\n",
    "import numpy as np\n",
    "\n",
    "print(\"Dataset Stats\")\n",
    "print(\"-------------\\n\")\n",
    "\n",
    "print('Rough number of total words: {}'.format(len(text.split())))\n",
    "print(\"Rough number of unique words: {}\".format(len({word: None for word in text.split()})))\n",
    "\n",
    "lines = text.split(\"\\n\")\n",
    "print('Number of lines: {}'.format(len(lines)))\n",
    "word_count_line = [len(line.split()) for line in lines]\n",
    "print(\"Average number of words per line: {:.3f}\".format(np.average(word_count_line)))\n",
    "\n",
    "print(\"Lines {} to {}:\".format(*view_line_range))\n",
    "print(\"\\n\".join(text.split(\"\\n\")[view_line_range[0]:view_line_range[1]]))"
   ]
  },
  {
   "cell_type": "markdown",
   "metadata": {},
   "source": [
    "---\n",
    "## Implement Pre-processing Functions\n",
    "The first thing to do to any dataset is pre-processing.  Implement the following pre-processing functions below:\n",
    "- Lookup Table\n",
    "- Tokenize Punctuation\n",
    "\n",
    "### Lookup Table\n",
    "To create a word embedding, you first need to transform the words to ids.  In this function, create two dictionaries:\n",
    "- Dictionary to go from the words to an id, we'll call `vocab_to_int`\n",
    "- Dictionary to go from the id to word, we'll call `int_to_vocab`\n",
    "\n",
    "Return these dictionaries in the following **tuple** `(vocab_to_int, int_to_vocab)`"
   ]
  },
  {
   "cell_type": "code",
   "execution_count": 3,
   "metadata": {},
   "outputs": [
    {
     "name": "stdout",
     "output_type": "stream",
     "text": [
      "Tests Passed\n"
     ]
    }
   ],
   "source": [
    "from collections import Counter\n",
    "import tester as tests\n",
    "\n",
    "def create_lookup_tables(text):\n",
    "    \"\"\"\n",
    "    Create lookup tables for vocabulary\n",
    "    :param text: The text of tv scripts split into words\n",
    "    :return: A tuple of dicts (vocab_to_int, int_to_vocab)\n",
    "    \"\"\"\n",
    "\n",
    "    # create lookup table\n",
    "    words_count = Counter(text)\n",
    "    vocab_to_int = {word: i for i, (word, count) in enumerate(words_count.most_common())}\n",
    "    int_to_vocab = {i: word for word, i in vocab_to_int.items()}\n",
    "    \n",
    "    # return tuple\n",
    "    return (vocab_to_int, int_to_vocab)\n",
    "\n",
    "word2int, int2word = create_lookup_tables(text.split())\n",
    "\n",
    "\"\"\"\n",
    "DON'T MODIFY ANYTHING IN THIS CELL THAT IS BELOW THIS LINE\n",
    "\"\"\"\n",
    "tests.test_create_lookup_tables(create_lookup_tables)"
   ]
  },
  {
   "cell_type": "markdown",
   "metadata": {},
   "source": [
    "### Tokenize Punctuation\n",
    "We'll be splitting the script into a word array using spaces as delimiters.  However, punctuations like periods and exclamation marks can create multiple ids for the same word. For example, \"bye\" and \"bye!\" would generate two different word ids.\n",
    "\n",
    "Implement the function `token_lookup` to return a dict that will be used to tokenize symbols like \"!\" into \"||Exclamation_Mark||\".  Create a dictionary for the following symbols where the symbol is the key and value is the token:\n",
    "- Period ( **.** )\n",
    "- Comma ( **,** )\n",
    "- Quotation Mark ( **\"** )\n",
    "- Semicolon ( **;** )\n",
    "- Exclamation mark ( **!** )\n",
    "- Question mark ( **?** )\n",
    "- Left Parentheses ( **(** )\n",
    "- Right Parentheses ( **)** )\n",
    "- Dash ( **-** )\n",
    "- Return ( **\\n** )\n",
    "\n",
    "This dictionary will be used to tokenize the symbols and add the delimiter (space) around it.  This separates each symbols as its own word, making it easier for the neural network to predict the next word. Make sure you don't use a value that could be confused as a word; for example, instead of using the value \"dash\", try using something like \"||dash||\"."
   ]
  },
  {
   "cell_type": "code",
   "execution_count": 4,
   "metadata": {},
   "outputs": [
    {
     "name": "stdout",
     "output_type": "stream",
     "text": [
      "Tests Passed\n"
     ]
    }
   ],
   "source": [
    "def token_lookup():\n",
    "    \"\"\"\n",
    "    Generate a dict to turn punctuation into a token.\n",
    "    :return: Tokenized dictionary where the key is the punctuation and the value is the token\n",
    "    \"\"\"\n",
    "    # create token lookup table\n",
    "    tokens = {\n",
    "        \".\": \"<PERIOD>\",\n",
    "        \",\": \"<COMMA>\",\n",
    "        \"\\\"\": \"<QUOTATION>\",\n",
    "        \";\": \"<SEMICOLON>\",\n",
    "        \"!\": \"<EXCLAMATION>\",\n",
    "        \"?\": \"<QUESTION>\",\n",
    "        \"(\": \"<PARENTHESIS_LEFT>\",\n",
    "        \")\": \"<PARENTHESIS_RIGHT>\",\n",
    "        \"-\": \"<DASH>\",\n",
    "        \"\\n\": \"<RETURN>\",\n",
    "    }\n",
    "    return tokens\n",
    "\n",
    "\"\"\"\n",
    "DON'T MODIFY ANYTHING IN THIS CELL THAT IS BELOW THIS LINE\n",
    "\"\"\"\n",
    "tests.test_tokenize(token_lookup)"
   ]
  },
  {
   "cell_type": "markdown",
   "metadata": {},
   "source": [
    "## Pre-process all the data and save it\n",
    "\n",
    "Running the code cell below will pre-process all the data and save it to file. You're encouraged to look at the code for `preprocess_and_save_data` in the `helpers.py` file to see what it's doing in detail, but you do not need to change this code."
   ]
  },
  {
   "cell_type": "code",
   "execution_count": 5,
   "metadata": {},
   "outputs": [],
   "source": [
    "\"\"\"\n",
    "DON'T MODIFY ANYTHING IN THIS CELL\n",
    "\"\"\"\n",
    "# pre-process training data\n",
    "helper.preprocess_and_save_data(data_dir, token_lookup, create_lookup_tables)"
   ]
  },
  {
   "cell_type": "markdown",
   "metadata": {},
   "source": [
    "# Check Point\n",
    "This is your first checkpoint. If you ever decide to come back to this notebook or have to restart the notebook, you can start from here. The preprocessed data has been saved to disk."
   ]
  },
  {
   "cell_type": "code",
   "execution_count": 6,
   "metadata": {},
   "outputs": [],
   "source": [
    "\"\"\"\n",
    "DON'T MODIFY ANYTHING IN THIS CELL\n",
    "\"\"\"\n",
    "import helper\n",
    "import tester as tests\n",
    "\n",
    "int_text, vocab_to_int, int_to_vocab, token_dict = helper.load_preprocess()"
   ]
  },
  {
   "cell_type": "code",
   "execution_count": 7,
   "metadata": {},
   "outputs": [
    {
     "name": "stdout",
     "output_type": "stream",
     "text": [
      "Rough number of total words BEFORE pre-processing: 605614\n",
      "Rough number of total words AFTER pre-processing: 892110\n",
      "Unique words: 21387\n"
     ]
    }
   ],
   "source": [
    "print(\"Rough number of total words BEFORE pre-processing:\", len(text.split()))\n",
    "print(\"Rough number of total words AFTER pre-processing:\", len(int_text))\n",
    "print(\"Unique words: {}\".format(len({word: None for word in int_text})))"
   ]
  },
  {
   "cell_type": "markdown",
   "metadata": {},
   "source": [
    "## Build the Neural Network\n",
    "In this section, you'll build the components necessary to build an RNN by implementing the RNN Module and forward and backpropagation functions.\n",
    "\n",
    "### Check Access to GPU"
   ]
  },
  {
   "cell_type": "code",
   "execution_count": 8,
   "metadata": {},
   "outputs": [],
   "source": [
    "\"\"\"\n",
    "DON'T MODIFY ANYTHING IN THIS CELL\n",
    "\"\"\"\n",
    "import torch\n",
    "\n",
    "train_on_gpu = torch.cuda.is_available()\n",
    "\n",
    "if not train_on_gpu:\n",
    "    print('No GPU found. Please use a GPU to train your neural network.')"
   ]
  },
  {
   "cell_type": "markdown",
   "metadata": {},
   "source": [
    "## Input\n",
    "Let's start with the preprocessed input data. We'll use [TensorDataset](http://pytorch.org/docs/master/data.html#torch.utils.data.TensorDataset) to provide a known format to our dataset; in combination with [DataLoader](http://pytorch.org/docs/master/data.html#torch.utils.data.DataLoader), it will handle batching, shuffling, and other dataset iteration functions.\n",
    "\n",
    "You can create data with TensorDataset by passing in feature and target tensors. Then create a DataLoader as usual.\n",
    "```\n",
    "data = TensorDataset(feature_tensors, target_tensors)\n",
    "data_loader = torch.utils.data.DataLoader(data, \n",
    "                                          batch_size=batch_size)\n",
    "```\n",
    "\n",
    "### Batching\n",
    "Implement the `batch_data` function to batch `words` data into chunks of size `batch_size` using the `TensorDataset` and `DataLoader` classes.\n",
    "\n",
    "You can batch words using the DataLoader, but it will be up to you to create `feature_tensors` and `target_tensors` of the correct size and content for a given `sequence_length`.\n",
    "\n",
    "For example, say we have these as input:\n",
    "```\n",
    "words = [1, 2, 3, 4, 5, 6, 7]\n",
    "sequence_length = 4\n",
    "```\n",
    "\n",
    "Your first `feature_tensor` should contain the values:\n",
    "```\n",
    "[1, 2, 3, 4]\n",
    "```\n",
    "And the corresponding `target_tensor` should just be the next \"word\"/tokenized word value:\n",
    "```\n",
    "5\n",
    "```\n",
    "This should continue with the second `feature_tensor`, `target_tensor` being:\n",
    "```\n",
    "[2, 3, 4, 5]  # features\n",
    "6             # target\n",
    "```"
   ]
  },
  {
   "cell_type": "code",
   "execution_count": 9,
   "metadata": {
    "scrolled": true
   },
   "outputs": [
    {
     "name": "stdout",
     "output_type": "stream",
     "text": [
      "tensor([[ 0,  1,  2,  3,  4],\n",
      "        [ 1,  2,  3,  4,  5],\n",
      "        [ 2,  3,  4,  5,  6],\n",
      "        [ 3,  4,  5,  6,  7],\n",
      "        [ 4,  5,  6,  7,  8],\n",
      "        [ 5,  6,  7,  8,  9],\n",
      "        [ 6,  7,  8,  9, 10],\n",
      "        [ 7,  8,  9, 10, 11],\n",
      "        [ 8,  9, 10, 11, 12],\n",
      "        [ 9, 10, 11, 12, 13]])\n",
      "tensor([ 5,  6,  7,  8,  9, 10, 11, 12, 13, 14])\n",
      "tensor([[10, 11, 12, 13, 14],\n",
      "        [11, 12, 13, 14, 15],\n",
      "        [12, 13, 14, 15, 16],\n",
      "        [13, 14, 15, 16, 17],\n",
      "        [14, 15, 16, 17, 18],\n",
      "        [15, 16, 17, 18, 19],\n",
      "        [16, 17, 18, 19, 20],\n",
      "        [17, 18, 19, 20, 21],\n",
      "        [18, 19, 20, 21, 22],\n",
      "        [19, 20, 21, 22, 23]])\n",
      "tensor([15, 16, 17, 18, 19, 20, 21, 22, 23, 24])\n",
      "tensor([[20, 21, 22, 23, 24],\n",
      "        [21, 22, 23, 24, 25],\n",
      "        [22, 23, 24, 25, 26],\n",
      "        [23, 24, 25, 26, 27],\n",
      "        [24, 25, 26, 27, 28],\n",
      "        [25, 26, 27, 28, 29],\n",
      "        [26, 27, 28, 29, 30],\n",
      "        [27, 28, 29, 30, 31],\n",
      "        [28, 29, 30, 31, 32],\n",
      "        [29, 30, 31, 32, 33]])\n",
      "tensor([25, 26, 27, 28, 29, 30, 31, 32, 33, 34])\n",
      "tensor([[30, 31, 32, 33, 34],\n",
      "        [31, 32, 33, 34, 35],\n",
      "        [32, 33, 34, 35, 36],\n",
      "        [33, 34, 35, 36, 37],\n",
      "        [34, 35, 36, 37, 38],\n",
      "        [35, 36, 37, 38, 39],\n",
      "        [36, 37, 38, 39, 40],\n",
      "        [37, 38, 39, 40, 41],\n",
      "        [38, 39, 40, 41, 42],\n",
      "        [39, 40, 41, 42, 43]])\n",
      "tensor([35, 36, 37, 38, 39, 40, 41, 42, 43, 44])\n",
      "tensor([[40, 41, 42, 43, 44],\n",
      "        [41, 42, 43, 44, 45],\n",
      "        [42, 43, 44, 45, 46],\n",
      "        [43, 44, 45, 46, 47],\n",
      "        [44, 45, 46, 47, 48],\n",
      "        [45, 46, 47, 48, 49]])\n",
      "tensor([45, 46, 47, 48, 49,  0])\n"
     ]
    }
   ],
   "source": [
    "from torch.utils.data import TensorDataset, DataLoader\n",
    "import numpy as np\n",
    "import torch\n",
    "\n",
    "def batch_data(words, sequence_length, batch_size, shuffle=True):\n",
    "    \"\"\"\n",
    "    Batch the neural network data using DataLoader\n",
    "    :param words: The word ids of the TV scripts\n",
    "    :param sequence_length: The sequence length of each batch\n",
    "    :param batch_size: The size of each batch; the number of sequences in a batch\n",
    "    :return: DataLoader with batched data\n",
    "    \"\"\"\n",
    "    \n",
    "    features = np.zeros((len(words)-sequence_length+1, sequence_length), dtype=int)\n",
    "    targets = np.zeros(len(words)-sequence_length+1, dtype=int)\n",
    "    \n",
    "    for i in range(len(words)-sequence_length+1):\n",
    "        features[i, :] = words[i:i+sequence_length]\n",
    "        try:\n",
    "            targets[i] = words[i+sequence_length]\n",
    "        except IndexError:\n",
    "            targets[i] = words[0]\n",
    "\n",
    "    data = TensorDataset(torch.from_numpy(features), torch.from_numpy(targets))\n",
    "    data_loader = DataLoader(data, shuffle=shuffle, batch_size=batch_size)\n",
    "    \n",
    "    return data_loader\n",
    "\n",
    "data_loader = batch_data(range(50), 5, 10, shuffle=False)\n",
    "data_iter = iter(data_loader)\n",
    "\n",
    "for x, y in data_iter:\n",
    "    print(x)\n",
    "    print(y)"
   ]
  },
  {
   "cell_type": "code",
   "execution_count": 106,
   "metadata": {},
   "outputs": [
    {
     "name": "stdout",
     "output_type": "stream",
     "text": [
      "tensor([[  31,   45,    1,    0,    0, 1706,  100,    2],\n",
      "        [ 584,   15, 1332,  602,    1,    0,    0,   14],\n",
      "        [   1,    0,    0,   14,  128,   84,   19,   93],\n",
      "        [   1,   11,   21, 1004, 1855,   12, 5516,    2],\n",
      "        [  17,    5,  204,   46,    8,   64,  134,  236],\n",
      "        [7798,  104,   62,    1,    0,    0,   16,   11],\n",
      "        [   1,    5, 1090,   37,  175,  112,  271,    8],\n",
      "        [   0,   13,   37,   66,  536,   76,   38, 2598],\n",
      "        [2833,   49,  177,  360,    2,  124,   77,    4],\n",
      "        [  15,   49,   40,  477,  358,    1,    0,    0]])\n",
      "tensor([    4,    56,    95, 14031,   298,  1601,    51,    10,    34,  1137])\n",
      "\n",
      "[\"i'm\", 'not', '<period>', '<return>', '<return>', 'patty:', 'yes', '<comma>'] you\n",
      "['worry', 'it', \"hasn't\", 'started', '<period>', '<return>', '<return>', 'elaine:'] hey\n",
      "['<period>', '<return>', '<return>', 'elaine:', 'where', 'did', 'that', 'come'] from\n",
      "['<period>', '<parenthesis_left>', 'in', 'fake', 'spanish', '<parenthesis_right>', 'maria', '<comma>'] poquendo\n",
      "['and', 'i', 'dont', 'like', 'to', 'go', 'too', 'long'] before\n",
      "['suds', 'over', 'here', '<period>', '<return>', '<return>', 'kramer:', '<parenthesis_left>'] noticing\n",
      "['<period>', 'i', 'spend', 'so', 'much', 'time', 'trying', 'to'] get\n",
      "['<return>', 'george:', 'so', \"you're\", 'moving', 'there', 'for', 'spite'] <exclamation>\n",
      "['screw', 'up', 'again', 'seinfeld', '<comma>', 'because', 'if', 'you'] do\n",
      "['it', 'up', 'with', 'everybody', 'else', '<period>', '<return>', '<return>'] sally:\n"
     ]
    }
   ],
   "source": [
    "data_loader = batch_data(int_text, 8, 10)\n",
    "data_iter = iter(data_loader)\n",
    "features, target = next(data_iter)\n",
    "print(features)\n",
    "print(target)\n",
    "\n",
    "print()\n",
    "\n",
    "for i, item in enumerate(features):\n",
    "    print([int_to_vocab[j.item()] for j in item], int_to_vocab[int(target[i].numpy())])"
   ]
  },
  {
   "cell_type": "markdown",
   "metadata": {},
   "source": [
    "### Test your dataloader \n",
    "\n",
    "You'll have to modify this code to test a batching function, but it should look fairly similar.\n",
    "\n",
    "Below, we're generating some test text data and defining a dataloader using the function you defined, above. Then, we are getting some sample batch of inputs `sample_x` and targets `sample_y` from our dataloader.\n",
    "\n",
    "Your code should return something like the following (likely in a different order, if you shuffled your data):\n",
    "\n",
    "```\n",
    "torch.Size([10, 5])\n",
    "tensor([[ 28,  29,  30,  31,  32],\n",
    "        [ 21,  22,  23,  24,  25],\n",
    "        [ 17,  18,  19,  20,  21],\n",
    "        [ 34,  35,  36,  37,  38],\n",
    "        [ 11,  12,  13,  14,  15],\n",
    "        [ 23,  24,  25,  26,  27],\n",
    "        [  6,   7,   8,   9,  10],\n",
    "        [ 38,  39,  40,  41,  42],\n",
    "        [ 25,  26,  27,  28,  29],\n",
    "        [  7,   8,   9,  10,  11]])\n",
    "\n",
    "torch.Size([10])\n",
    "tensor([ 33,  26,  22,  39,  16,  28,  11,  43,  30,  12])\n",
    "```\n",
    "\n",
    "### Sizes\n",
    "Your sample_x should be of size `(batch_size, sequence_length)` or (10, 5) in this case and sample_y should just have one dimension: batch_size (10). \n",
    "\n",
    "### Values\n",
    "\n",
    "You should also notice that the targets, sample_y, are the *next* value in the ordered test_text data. So, for an input sequence `[ 28,  29,  30,  31,  32]` that ends with the value `32`, the corresponding output should be `33`."
   ]
  },
  {
   "cell_type": "code",
   "execution_count": 11,
   "metadata": {},
   "outputs": [
    {
     "name": "stdout",
     "output_type": "stream",
     "text": [
      "torch.Size([10, 5])\n",
      "tensor([[ 8,  9, 10, 11, 12],\n",
      "        [ 0,  1,  2,  3,  4],\n",
      "        [ 1,  2,  3,  4,  5],\n",
      "        [14, 15, 16, 17, 18],\n",
      "        [ 5,  6,  7,  8,  9],\n",
      "        [45, 46, 47, 48, 49],\n",
      "        [ 4,  5,  6,  7,  8],\n",
      "        [12, 13, 14, 15, 16],\n",
      "        [36, 37, 38, 39, 40],\n",
      "        [24, 25, 26, 27, 28]])\n",
      "\n",
      "torch.Size([10])\n",
      "tensor([13,  5,  6, 19, 10,  0,  9, 17, 41, 29])\n"
     ]
    }
   ],
   "source": [
    "test_text = range(50)\n",
    "t_loader = batch_data(test_text, sequence_length=5, batch_size=10)\n",
    "\n",
    "data_iter = iter(t_loader)\n",
    "sample_x, sample_y = data_iter.next()\n",
    "\n",
    "print(sample_x.shape)\n",
    "print(sample_x)\n",
    "print()\n",
    "print(sample_y.shape)\n",
    "print(sample_y)"
   ]
  },
  {
   "cell_type": "markdown",
   "metadata": {},
   "source": [
    "---\n",
    "## Build the Neural Network\n",
    "Implement an RNN using PyTorch's [Module class](http://pytorch.org/docs/master/nn.html#torch.nn.Module). You may choose to use a GRU or an LSTM. To complete the RNN, you'll have to implement the following functions for the class:\n",
    " - `__init__` - The initialize function. \n",
    " - `init_hidden` - The initialization function for an LSTM/GRU hidden state\n",
    " - `forward` - Forward propagation function.\n",
    " \n",
    "The initialize function should create the layers of the neural network and save them to the class. The forward propagation function will use these layers to run forward propagation and generate an output and a hidden state.\n",
    "\n",
    "**The output of this model should be the *last* batch of word scores** after a complete sequence has been processed. That is, for each input sequence of words, we only want to output the word scores for a single, most likely, next word.\n",
    "\n",
    "### Hints\n",
    "\n",
    "1. Make sure to stack the outputs of the lstm to pass to your fully-connected layer, you can do this with `lstm_output = lstm_output.contiguous().view(-1, self.hidden_dim)`\n",
    "2. You can get the last batch of word scores by shaping the output of the final, fully-connected layer like so:\n",
    "\n",
    "```\n",
    "# reshape into (batch_size, seq_length, output_size)\n",
    "output = output.view(batch_size, -1, self.output_size)\n",
    "# get last batch\n",
    "out = output[:, -1]\n",
    "```"
   ]
  },
  {
   "cell_type": "code",
   "execution_count": 12,
   "metadata": {},
   "outputs": [
    {
     "name": "stdout",
     "output_type": "stream",
     "text": [
      "Tests Passed\n"
     ]
    }
   ],
   "source": [
    "import torch.nn as nn\n",
    "\n",
    "class RNN(nn.Module):\n",
    "    \n",
    "    def __init__(self, vocab_size, output_size, embedding_dim, hidden_dim, n_layers, dropout=0.5, batch_first=True):\n",
    "        \"\"\"\n",
    "        Initialize the PyTorch RNN Module\n",
    "        :param vocab_size: The number of input dimensions of the neural network (the size of the vocabulary)\n",
    "        :param output_size: The number of output dimensions of the neural network\n",
    "        :param embedding_dim: The size of embeddings, should you choose to use them        \n",
    "        :param hidden_dim: The size of the hidden layer outputs\n",
    "        :param dropout: dropout to add in between LSTM/GRU layers\n",
    "        :param batch_first: first dimension of input and output tensors is the batch size\n",
    "        \"\"\"\n",
    "        super(RNN, self).__init__()\n",
    "        \n",
    "        # set class variables\n",
    "        self.n_layers = n_layers\n",
    "        self.hidden_dim = hidden_dim\n",
    "        self.output_size = output_size\n",
    "        \n",
    "        # define model layers\n",
    "        self.embedding = nn.Embedding(vocab_size, embedding_dim)\n",
    "        self.lstm = nn.LSTM(embedding_dim, hidden_dim, n_layers, dropout=dropout, batch_first=batch_first)\n",
    "        self.drop = nn.Dropout(p=0.5)\n",
    "        self.fc = nn.Linear(hidden_dim, output_size)\n",
    "    \n",
    "    def forward(self, nn_input, hidden):\n",
    "        \"\"\"\n",
    "        Forward propagation of the neural network\n",
    "        :param nn_input: The input to the neural network\n",
    "        :param hidden: The hidden state        \n",
    "        :return: Two Tensors, the output of the neural network and the latest hidden state\n",
    "        \"\"\"\n",
    "\n",
    "        # embeddings and lstm\n",
    "        embed_out = self.embedding(nn_input)\n",
    "        lstm_out, hidden = self.lstm(embed_out, hidden)\n",
    "        \n",
    "        # dropout\n",
    "        out = self.drop(lstm_out)\n",
    "        \n",
    "        # stack up the LSTM outputs to pass to last linear layer\n",
    "        out = out.contiguous().view(-1, self.hidden_dim)\n",
    "        \n",
    "        # fully-connected layer\n",
    "        out = self.fc(out)\n",
    "        \n",
    "        # get the last batch of word scores\n",
    "        out = out.view(nn_input.size(0), -1, self.output_size)\n",
    "        output = out[:, -1]\n",
    "        \n",
    "        # return one batch of output word scores and the hidden state\n",
    "        return output, hidden\n",
    "        \n",
    "    \n",
    "    def init_hidden(self, batch_size):\n",
    "        '''\n",
    "        Initialize the hidden state of an LSTM/GRU\n",
    "        :param batch_size: The batch_size of the hidden state\n",
    "        :return: hidden state of dims (n_layers, batch_size, hidden_dim)\n",
    "        '''\n",
    "        \n",
    "        weight = next(self.parameters()).data\n",
    "        if train_on_gpu:\n",
    "            hidden = (weight.new(self.n_layers, batch_size, self.hidden_dim).zero_().cuda(),\n",
    "                      weight.new(self.n_layers, batch_size, self.hidden_dim).zero_().cuda())\n",
    "        else:\n",
    "            hidden = (weight.new(self.n_layers, batch_size, self.hidden_dim).zero_(),\n",
    "                      weight.new(self.n_layers, batch_size, self.hidden_dim).zero_())\n",
    "        return hidden\n",
    "\n",
    "\"\"\"\n",
    "DON'T MODIFY ANYTHING IN THIS CELL THAT IS BELOW THIS LINE\n",
    "\"\"\"\n",
    "tests.test_rnn(RNN, train_on_gpu)"
   ]
  },
  {
   "cell_type": "code",
   "execution_count": 13,
   "metadata": {},
   "outputs": [
    {
     "name": "stdout",
     "output_type": "stream",
     "text": [
      "tensor([[ 1,  2,  3,  4,  5,  6,  7,  8,  9, 10],\n",
      "        [27, 28, 29, 30, 31, 32, 33, 34, 35, 36],\n",
      "        [ 9, 10, 11, 12, 13, 14, 15, 16, 17, 18]])\n",
      "torch.Size([3, 100])\n"
     ]
    }
   ],
   "source": [
    "# instantiate a test model\n",
    "rnn_test = RNN(100, 100, 200, 300, 2, dropout=0.5)\n",
    "train_loader = batch_data(range(50), 10, 3)\n",
    "data_iter = iter(train_loader)\n",
    "x, y = data_iter.next()\n",
    "print(x)\n",
    "out, _ = rnn_test.forward(x, None)\n",
    "print(out.shape)"
   ]
  },
  {
   "cell_type": "markdown",
   "metadata": {},
   "source": [
    "### Define forward and backpropagation\n",
    "\n",
    "Use the RNN class you implemented to apply forward and backpropagation. This function will be called, iteratively, in the training loop as follows:\n",
    "```\n",
    "loss = forward_back_prop(decoder, decoder_optimizer, criterion, inp, target)\n",
    "```\n",
    "\n",
    "And it should return the average loss over a batch and the hidden state returned by a call to `RNN(inp, hidden)`. Recall that you can get this loss by computing it, as usual, and calling `loss.item()`.\n",
    "\n",
    "**If a GPU is available, you should move your data to that GPU device, here.**"
   ]
  },
  {
   "cell_type": "code",
   "execution_count": 14,
   "metadata": {},
   "outputs": [
    {
     "name": "stdout",
     "output_type": "stream",
     "text": [
      "Tests Passed\n"
     ]
    }
   ],
   "source": [
    "def forward_back_prop(rnn, optimizer, criterion, features, target, hidden):\n",
    "    \"\"\"\n",
    "    Forward and backward propagation on the neural network\n",
    "    :param rnn: The PyTorch Module that holds the neural network\n",
    "    :param optimizer: The PyTorch optimizer for the neural network\n",
    "    :param criterion: The PyTorch loss function\n",
    "    :param features: A batch of input to the neural network\n",
    "    :param target: The target output for the batch of input\n",
    "    :return: The loss and the latest hidden state Tensor\n",
    "    \"\"\"\n",
    "    \n",
    "    # move data to GPU\n",
    "    if(train_on_gpu):\n",
    "        features, target = features.cuda(), target.cuda()\n",
    "    \n",
    "    # detach from history\n",
    "    hidden = tuple([each.data for each in hidden])\n",
    "\n",
    "    # zero accumulated gradients\n",
    "    rnn.zero_grad()\n",
    "    \n",
    "    # get the output from the model\n",
    "    output, h = rnn(features, hidden)\n",
    "    \n",
    "    # perform backpropagation and optimization\n",
    "    loss = criterion(output, target)\n",
    "    loss.backward()\n",
    "\n",
    "    # \"clip_grad_norm\" helps prevent the exploding gradient problem in RNNs / LSTMs.\n",
    "    nn.utils.clip_grad_norm_(rnn.parameters(), 0.5)\n",
    "    optimizer.step()\n",
    "\n",
    "    # return the loss over a batch and the hidden state\n",
    "    return loss.item(), hidden\n",
    "\n",
    "\"\"\"\n",
    "DON'T MODIFY ANYTHING IN THIS CELL THAT IS BELOW THIS LINE\n",
    "\"\"\"\n",
    "tests.test_forward_back_prop(RNN, forward_back_prop, train_on_gpu)"
   ]
  },
  {
   "cell_type": "markdown",
   "metadata": {},
   "source": [
    "## Neural Network Training\n",
    "\n",
    "With the structure of the network complete and data ready to be fed in the neural network, it's time to train it.\n",
    "\n",
    "### Train Loop\n",
    "\n",
    "The training loop is implemented for you in the `train_decoder` function. This function will train the network over all the batches for the number of epochs given. The model progress will be shown every number of batches. This number is set with the `show_every_n_batches` parameter. You'll set this parameter along with other parameters in the next section."
   ]
  },
  {
   "cell_type": "code",
   "execution_count": 15,
   "metadata": {},
   "outputs": [],
   "source": [
    "\"\"\"\n",
    "DON'T MODIFY ANYTHING IN THIS CELL\n",
    "\"\"\"\n",
    "\n",
    "def train_rnn(rnn, batch_size, optimizer, criterion, n_epochs, show_every_n_batches=100):\n",
    "    batch_losses = []\n",
    "    \n",
    "    rnn.train()\n",
    "    \n",
    "    print(\"Training for %d epoch(s)...\" % n_epochs)\n",
    "    for epoch_i in range(1, n_epochs + 1):\n",
    "        \n",
    "        # initialize hidden state\n",
    "        hidden = rnn.init_hidden(batch_size)\n",
    "        \n",
    "        for batch_i, (inputs, labels) in enumerate(train_loader, 1):\n",
    "            \n",
    "            # make sure you iterate over completely full batches, only\n",
    "            n_batches = len(train_loader.dataset)//batch_size\n",
    "            if(batch_i > n_batches):\n",
    "                break\n",
    "            \n",
    "            # forward, back prop\n",
    "            loss, hidden = forward_back_prop(rnn, optimizer, criterion, inputs, labels, hidden)          \n",
    "            # record loss\n",
    "            batch_losses.append(loss)\n",
    "\n",
    "        # printing loss stats\n",
    "        print(\"Epoch: {}/{}   Loss: {}\".format(epoch_i, n_epochs, np.average(batch_losses)))\n",
    "        batch_losses = []\n",
    "\n",
    "    # returns a trained rnn\n",
    "    return rnn"
   ]
  },
  {
   "cell_type": "markdown",
   "metadata": {},
   "source": [
    "### Hyperparameters\n",
    "\n",
    "Set and train the neural network with the following parameters:\n",
    "- Set `sequence_length` to the length of a sequence.\n",
    "- Set `batch_size` to the batch size.\n",
    "- Set `num_epochs` to the number of epochs to train for.\n",
    "- Set `learning_rate` to the learning rate for an Adam optimizer.\n",
    "- Set `vocab_size` to the number of unique tokens in our vocabulary.\n",
    "- Set `output_size` to the desired size of the output.\n",
    "- Set `embedding_dim` to the embedding dimension; smaller than the vocab_size.\n",
    "- Set `hidden_dim` to the hidden dimension of your RNN.\n",
    "- Set `n_layers` to the number of layers/cells in your RNN.\n",
    "- Set `show_every_n_batches` to the number of batches at which the neural network should print progress.\n",
    "\n",
    "If the network isn't getting the desired results, tweak these parameters and/or the layers in the `RNN` class."
   ]
  },
  {
   "cell_type": "code",
   "execution_count": 16,
   "metadata": {},
   "outputs": [],
   "source": [
    "## Data Parameters\n",
    "# Sequence Length\n",
    "sequence_length = 5\n",
    "# Batch Size\n",
    "batch_size = 512\n",
    "\n",
    "# data loader - do not change\n",
    "train_loader = batch_data(int_text, sequence_length, batch_size)"
   ]
  },
  {
   "cell_type": "code",
   "execution_count": 17,
   "metadata": {},
   "outputs": [],
   "source": [
    "## Training Parameters\n",
    "# Number of Epochs\n",
    "num_epochs = 20\n",
    "# Learning Rate\n",
    "learning_rate = 0.001\n",
    "\n",
    "## Model parameters\n",
    "# Vocab size\n",
    "vocab_size = len(vocab_to_int)\n",
    "# Output size\n",
    "output_size = len(vocab_to_int)\n",
    "# Embedding Dimension\n",
    "embedding_dim = 200\n",
    "# Hidden Dimension\n",
    "hidden_dim = 400\n",
    "# Number of RNN Layers\n",
    "n_layers = 2\n",
    "\n",
    "# Show stats for every n number of batches\n",
    "show_every_n_batches = 1000"
   ]
  },
  {
   "cell_type": "markdown",
   "metadata": {},
   "source": [
    "### Train\n",
    "In the next cell, you'll train the neural network on the pre-processed data. If you have a hard time getting a good loss, you may consider changing your hyperparameters. In general, you may get better results with larger hidden and layer dimensions, but larger models take a longer time to train. \n",
    "\n",
    "**You should aim for a loss less than 3.5.** \n",
    "\n",
    "You should also experiment with different sequence lengths, which determine the size of the long range dependencies that a model can learn."
   ]
  },
  {
   "cell_type": "code",
   "execution_count": 18,
   "metadata": {},
   "outputs": [
    {
     "name": "stdout",
     "output_type": "stream",
     "text": [
      "Training for 20 epoch(s)...\n",
      "Epoch: 1/20   Loss: 4.682519107543779\n",
      "Epoch: 2/20   Loss: 4.161264402036963\n",
      "Epoch: 3/20   Loss: 4.003129777213052\n",
      "Epoch: 4/20   Loss: 3.9009675523854286\n",
      "Epoch: 5/20   Loss: 3.8211219915703163\n",
      "Epoch: 6/20   Loss: 3.7547311353081265\n",
      "Epoch: 7/20   Loss: 3.699236129099411\n",
      "Epoch: 8/20   Loss: 3.6518289693871813\n",
      "Epoch: 9/20   Loss: 3.6089666216846994\n",
      "Epoch: 10/20   Loss: 3.5703928020326194\n",
      "Epoch: 11/20   Loss: 3.534844255337896\n",
      "Epoch: 12/20   Loss: 3.50342281965109\n",
      "Epoch: 13/20   Loss: 3.474121647642072\n",
      "Epoch: 14/20   Loss: 3.4464798829038163\n",
      "Epoch: 15/20   Loss: 3.420058573428306\n",
      "Epoch: 16/20   Loss: 3.396588951930934\n",
      "Epoch: 17/20   Loss: 3.3736607278392454\n",
      "Epoch: 18/20   Loss: 3.3514895614334965\n",
      "Epoch: 19/20   Loss: 3.3302480614691734\n",
      "Epoch: 20/20   Loss: 3.312414601120144\n",
      "Model Trained and Saved\n"
     ]
    }
   ],
   "source": [
    "\"\"\"\n",
    "DON'T MODIFY ANYTHING IN THIS CELL\n",
    "\"\"\"\n",
    "\n",
    "# create model and move to gpu if available\n",
    "rnn = RNN(vocab_size, output_size, embedding_dim, hidden_dim, n_layers, dropout=0.5)\n",
    "if train_on_gpu:\n",
    "    rnn.cuda()\n",
    "\n",
    "# defining loss and optimization functions for training\n",
    "optimizer = torch.optim.Adam(rnn.parameters(), lr=learning_rate)\n",
    "criterion = nn.CrossEntropyLoss()\n",
    "\n",
    "# training the model\n",
    "trained_rnn = train_rnn(rnn, batch_size, optimizer, criterion, num_epochs, show_every_n_batches)\n",
    "\n",
    "# saving the trained model\n",
    "helper.save_model('./save/model_trained', trained_rnn)\n",
    "print('Model Trained and Saved')"
   ]
  },
  {
   "cell_type": "markdown",
   "metadata": {},
   "source": [
    "### Question: How did you decide on your model hyperparameters? \n",
    "For example, did you try different `sequence_lengths` and find that one size made the model converge faster? What about your `hidden_dim` and `n_layers`, how did you decide on those?"
   ]
  },
  {
   "cell_type": "markdown",
   "metadata": {},
   "source": [
    "**Answer:**\n",
    "I have found out that a small learning rate of `lr = 0.001` and a large batch size of `batch_size = 512` made the model converge the fastest. I had to try a number of different values for the batch size to get the model to train properly. I have started with a value of 50, but training turned out to be too slow in this range. I decided to choose a sequence length of `sequence_length = 5`, because the average number of words per line is `5.544` according to the dataset statistics in the beginning of this project. I felt there was no need to go with a higher value, since I wanted to generate a script that has similar complexity as the original content. Since the dictionary contains a number of 21387 unique words, I chose a value of `embedding_dim = 200` for the embedding dimension. This is based on my experience of previous RNN implementations. For the number of hidden features, `hidden_dim = 400` turned out to be a good value to achieve enough learning capacity. I wanted to balance model performance vs. training time. In order to keep training time low, I set the number of LSTM layers to `n_layers = 2`."
   ]
  },
  {
   "cell_type": "markdown",
   "metadata": {},
   "source": [
    "---\n",
    "# Checkpoint\n",
    "\n",
    "After running the above training cell, your model will be saved by name, `trained_rnn`, and if you save your notebook progress, **you can pause here and come back to this code at another time**. You can resume your progress by running the next cell, which will load in our word:id dictionaries _and_ load in your saved model by name!"
   ]
  },
  {
   "cell_type": "code",
   "execution_count": 19,
   "metadata": {},
   "outputs": [],
   "source": [
    "\"\"\"\n",
    "DON'T MODIFY ANYTHING IN THIS CELL\n",
    "\"\"\"\n",
    "import torch\n",
    "import helper\n",
    "import tester as tests\n",
    "\n",
    "_, vocab_to_int, int_to_vocab, token_dict = helper.load_preprocess()\n",
    "trained_rnn = helper.load_model('./save/model_trained')"
   ]
  },
  {
   "cell_type": "markdown",
   "metadata": {},
   "source": [
    "## Generate TV Script\n",
    "With the network trained and saved, you'll use it to generate a new, \"fake\" Seinfeld TV script in this section.\n",
    "\n",
    "### Generate Text\n",
    "To generate the text, the network needs to start with a single word and repeat its predictions until it reaches a set length. You'll be using the `generate` function to do this. It takes a word id to start with, `prime_id`, and generates a set length of text, `predict_len`. Also note that it uses topk sampling to introduce some randomness in choosing the most likely next word, given an output set of word scores!"
   ]
  },
  {
   "cell_type": "code",
   "execution_count": 20,
   "metadata": {},
   "outputs": [],
   "source": [
    "\"\"\"\n",
    "DON'T MODIFY ANYTHING IN THIS CELL THAT IS BELOW THIS LINE\n",
    "\"\"\"\n",
    "import torch.nn.functional as F\n",
    "\n",
    "def generate(rnn, prime_id, int_to_vocab, token_dict, pad_value, predict_len=100):\n",
    "    \"\"\"\n",
    "    Generate text using the neural network\n",
    "    :param decoder: The PyTorch Module that holds the trained neural network\n",
    "    :param prime_id: The word id to start the first prediction\n",
    "    :param int_to_vocab: Dict of word id keys to word values\n",
    "    :param token_dict: Dict of puncuation tokens keys to puncuation values\n",
    "    :param pad_value: The value used to pad a sequence\n",
    "    :param predict_len: The length of text to generate\n",
    "    :return: The generated text\n",
    "    \"\"\"\n",
    "    rnn.eval()\n",
    "    \n",
    "    # create a sequence (batch_size=1) with the prime_id\n",
    "    current_seq = np.full((1, sequence_length), pad_value)\n",
    "    current_seq[-1][-1] = prime_id\n",
    "    predicted = [int_to_vocab[prime_id]]\n",
    "    \n",
    "    for _ in range(predict_len):\n",
    "        if train_on_gpu:\n",
    "            current_seq = torch.LongTensor(current_seq).cuda()\n",
    "        else:\n",
    "            current_seq = torch.LongTensor(current_seq)\n",
    "        \n",
    "        # initialize the hidden state\n",
    "        hidden = rnn.init_hidden(current_seq.size(0))\n",
    "        \n",
    "        # get the output of the rnn\n",
    "        output, _ = rnn(current_seq, hidden)\n",
    "        \n",
    "        # get the next word probabilities\n",
    "        p = F.softmax(output, dim=1).data\n",
    "        if(train_on_gpu):\n",
    "            p = p.cpu() # move to cpu\n",
    "         \n",
    "        # use top_k sampling to get the index of the next word\n",
    "        top_k = 5\n",
    "        p, top_i = p.topk(top_k)\n",
    "        top_i = top_i.numpy().squeeze()\n",
    "        \n",
    "        # select the likely next word index with some element of randomness\n",
    "        p = p.numpy().squeeze()\n",
    "        word_i = np.random.choice(top_i, p=p/p.sum())\n",
    "        \n",
    "        # retrieve that word from the dictionary\n",
    "        word = int_to_vocab[word_i]\n",
    "        predicted.append(word)     \n",
    "        \n",
    "        if(train_on_gpu):\n",
    "            current_seq = current_seq.cpu() # move to cpu\n",
    "        # the generated word becomes the next \"current sequence\" and the cycle can continue\n",
    "        if train_on_gpu:\n",
    "            current_seq = current_seq.cpu()\n",
    "        current_seq = np.roll(current_seq, -1, 1)\n",
    "        current_seq[-1][-1] = word_i\n",
    "    \n",
    "    gen_sentences = ' '.join(predicted)\n",
    "    \n",
    "    # Replace punctuation tokens\n",
    "    for key, token in token_dict.items():\n",
    "        ending = ' ' if key in ['\\n', '(', '\"'] else ''\n",
    "        gen_sentences = gen_sentences.replace(' ' + token.lower(), key)\n",
    "    gen_sentences = gen_sentences.replace('\\n ', '\\n')\n",
    "    gen_sentences = gen_sentences.replace('( ', '(')\n",
    "    \n",
    "    # return all the sentences\n",
    "    return gen_sentences"
   ]
  },
  {
   "cell_type": "markdown",
   "metadata": {},
   "source": [
    "### Generate a New Script\n",
    "It's time to generate the text. Set `gen_length` to the length of TV script you want to generate and set `prime_word` to one of the following to start the prediction:\n",
    "- \"jerry\"\n",
    "- \"elaine\"\n",
    "- \"george\"\n",
    "- \"kramer\"\n",
    "\n",
    "You can set the prime word to _any word_ in our dictionary, but it's best to start with a name for generating a TV script. (You can also start with any other names you find in the original text file!)"
   ]
  },
  {
   "cell_type": "code",
   "execution_count": 113,
   "metadata": {},
   "outputs": [
    {
     "name": "stdout",
     "output_type": "stream",
     "text": [
      "jerry:) hey!\n",
      "\n",
      "jerry: i can't believe this, i was in the hospital to be a little more tactful.\n",
      "\n",
      "jerry:(to jerry) hey, you know...(he leaves)\n",
      "\n",
      "george: you know what? you know, i have a very bad idea.\n",
      "\n",
      "george: what is it?!!\n",
      "\n",
      "kramer:(to jerry) you got the job?\n",
      "\n",
      "helen: i don't know why we had a little more time.\n",
      "\n",
      "jerry: you know what, i think i can see the whole thing, and i was thinking of a little problem with you?\n",
      "\n",
      "george:(looking at the tv)\n",
      "\n",
      "jerry: i think you're going to go.(to george) hey, you gotta see the doctor?\n",
      "\n",
      "elaine: no, no. no.\n",
      "\n",
      "newman:(to jerry) you know i don't know what you think.\n",
      "\n",
      "kramer: hey, you know....\n",
      "\n",
      "kramer: oh yeah, you know i was gonna get out\n"
     ]
    }
   ],
   "source": [
    "# run the cell multiple times to get different results!\n",
    "gen_length = 200\n",
    "prime_word = 'jerry'\n",
    "\n",
    "\"\"\"\n",
    "DON'T MODIFY ANYTHING IN THIS CELL THAT IS BELOW THIS LINE\n",
    "\"\"\"\n",
    "pad_word = helper.SPECIAL_WORDS['PADDING']\n",
    "generated_script = generate(trained_rnn, vocab_to_int[prime_word + ':'], int_to_vocab, token_dict, vocab_to_int[pad_word], gen_length)\n",
    "print(generated_script)"
   ]
  },
  {
   "cell_type": "markdown",
   "metadata": {},
   "source": [
    "#### Save your favorite scripts\n",
    "\n",
    "Once you have a script that you like (or find interesting), save it to a text file!"
   ]
  },
  {
   "cell_type": "code",
   "execution_count": 114,
   "metadata": {},
   "outputs": [],
   "source": [
    "f = open(\"script.txt\",\"w\")\n",
    "f.write(generated_script)\n",
    "f.close()"
   ]
  },
  {
   "cell_type": "markdown",
   "metadata": {},
   "source": [
    "### Discuss the New Script\n",
    "\n",
    "You can see that there are multiple characters that say somewhat complete sentences, but it doesn't have to be perfect! It takes quite a while to get good results, and often, you'll have to use a smaller vocabulary and discard uncommon words, or get more data.  The Seinfeld dataset is about 3.4 MB, which is big enough for our purposes; for script generation you'll want more than 1 MB of text, generally."
   ]
  }
 ],
 "metadata": {
  "kernelspec": {
   "display_name": "Python 3",
   "language": "python",
   "name": "python3"
  },
  "language_info": {
   "codemirror_mode": {
    "name": "ipython",
    "version": 3
   },
   "file_extension": ".py",
   "mimetype": "text/x-python",
   "name": "python",
   "nbconvert_exporter": "python",
   "pygments_lexer": "ipython3",
   "version": "3.7.10"
  },
  "widgets": {
   "state": {},
   "version": "1.1.2"
  }
 },
 "nbformat": 4,
 "nbformat_minor": 1
}
